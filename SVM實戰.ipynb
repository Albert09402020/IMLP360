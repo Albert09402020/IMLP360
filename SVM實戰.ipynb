{
 "cells": [
  {
   "cell_type": "markdown",
   "metadata": {},
   "source": [
    "# 乳癌資料庫預測SVM分類\n",
    ">使用scikit-learn 機器學習套件裡的SVR演算法\n",
    "\n",
    "* (一)引入函式庫及內建乳癌資料集<br>\n",
    "引入之函式庫如下<br>\n",
    "sklearn.datasets: 用來匯入內建之乳癌資料集`datasets.load_breast_cancer()`<br>\n",
    "sklearn.SVR: 支持向量機回歸分析之演算法<br>\n",
    "matplotlib.pyplot: 用來繪製影像"
   ]
  },
  {
   "cell_type": "code",
   "execution_count": 143,
   "metadata": {},
   "outputs": [],
   "source": [
    "from sklearn import svm\n",
    "from sklearn import datasets\n",
    "from sklearn.model_selection import train_test_split\n",
    "from sklearn.metrics import accuracy_score\n",
    "import numpy as np\n",
    "import seaborn as sns\n",
    "import pandas as pd\n",
    "import matplotlib.pyplot as plt\n",
    "\n",
    "import warnings\n",
    "warnings.filterwarnings('ignore')"
   ]
  },
  {
   "cell_type": "markdown",
   "metadata": {},
   "source": [
    "## Step1. 下載資料"
   ]
  },
  {
   "cell_type": "code",
   "execution_count": 144,
   "metadata": {},
   "outputs": [],
   "source": [
    "breast_cancer=datasets.load_breast_cancer()"
   ]
  },
  {
   "cell_type": "code",
   "execution_count": 145,
   "metadata": {},
   "outputs": [
    {
     "name": "stdout",
     "output_type": "stream",
     "text": [
      "dict_keys(['data', 'target', 'frame', 'target_names', 'DESCR', 'feature_names', 'filename', 'data_module'])\n",
      "\n",
      "\n",
      "['mean radius' 'mean texture' 'mean perimeter' 'mean area'\n",
      " 'mean smoothness' 'mean compactness' 'mean concavity'\n",
      " 'mean concave points' 'mean symmetry' 'mean fractal dimension'\n",
      " 'radius error' 'texture error' 'perimeter error' 'area error'\n",
      " 'smoothness error' 'compactness error' 'concavity error'\n",
      " 'concave points error' 'symmetry error' 'fractal dimension error'\n",
      " 'worst radius' 'worst texture' 'worst perimeter' 'worst area'\n",
      " 'worst smoothness' 'worst compactness' 'worst concavity'\n",
      " 'worst concave points' 'worst symmetry' 'worst fractal dimension']\n",
      "\n",
      "\n",
      "['malignant' 'benign']\n"
     ]
    }
   ],
   "source": [
    "print(breast_cancer.keys())\n",
    "print(\"\\n\")\n",
    "print(breast_cancer.feature_names)\n",
    "print(\"\\n\")\n",
    "print(breast_cancer.target_names)\n",
    "target=breast_cancer.target\n",
    "features=breast_cancer.data"
   ]
  },
  {
   "cell_type": "code",
   "execution_count": 146,
   "metadata": {},
   "outputs": [
    {
     "name": "stdout",
     "output_type": "stream",
     "text": [
      "target:(以0,1表示)\n",
      "[0 0 0 0 0 0 0 0 0 0 0 0 0 0 0 0 0 0 0 1 1 1 0 0 0 0 0 0 0 0 0 0 0 0 0 0 0\n",
      " 1 0 0 0 0 0 0 0 0 1 0 1 1 1 1 1 0 0 1 0 0 1 1 1 1 0 1 0 0 1 1 1 1 0 1 0 0\n",
      " 1 0 1 0 0 1 1 1 0 0 1 0 0 0 1 1 1 0 1 1 0 0 1 1 1 0 0 1 1 1 1 0 1 1 0 1 1\n",
      " 1 1 1 1 1 1 0 0 0 1 0 0 1 1 1 0 0 1 0 1 0 0 1 0 0 1 1 0 1 1 0 1 1 1 1 0 1\n",
      " 1 1 1 1 1 1 1 1 0 1 1 1 1 0 0 1 0 1 1 0 0 1 1 0 0 1 1 1 1 0 1 1 0 0 0 1 0\n",
      " 1 0 1 1 1 0 1 1 0 0 1 0 0 0 0 1 0 0 0 1 0 1 0 1 1 0 1 0 0 0 0 1 1 0 0 1 1\n",
      " 1 0 1 1 1 1 1 0 0 1 1 0 1 1 0 0 1 0 1 1 1 1 0 1 1 1 1 1 0 1 0 0 0 0 0 0 0\n",
      " 0 0 0 0 0 0 0 1 1 1 1 1 1 0 1 0 1 1 0 1 1 0 1 0 0 1 1 1 1 1 1 1 1 1 1 1 1\n",
      " 1 0 1 1 0 1 0 1 1 1 1 1 1 1 1 1 1 1 1 1 1 0 1 1 1 0 1 0 1 1 1 1 0 0 0 1 1\n",
      " 1 1 0 1 0 1 0 1 1 1 0 1 1 1 1 1 1 1 0 0 0 1 1 1 1 1 1 1 1 1 1 1 0 0 1 0 0\n",
      " 0 1 0 0 1 1 1 1 1 0 1 1 1 1 1 0 1 1 1 0 1 1 0 0 1 1 1 1 1 1 0 1 1 1 1 1 1\n",
      " 1 0 1 1 1 1 1 0 1 1 0 1 1 1 1 1 1 1 1 1 1 1 1 0 1 0 0 1 0 1 1 1 1 1 0 1 1\n",
      " 0 1 0 1 1 0 1 0 1 1 1 1 1 1 1 1 0 0 1 1 1 1 1 1 0 1 1 1 1 1 1 1 1 1 1 0 1\n",
      " 1 1 1 1 1 1 0 1 0 1 1 0 1 1 1 1 1 0 0 1 0 1 0 1 1 1 1 1 0 1 1 0 1 0 1 0 0\n",
      " 1 1 1 0 1 1 1 1 1 1 1 1 1 1 1 0 1 0 0 1 1 1 1 1 1 1 1 1 1 1 1 1 1 1 1 1 1\n",
      " 1 1 1 1 1 1 1 0 0 0 0 0 0 1]\n",
      "\n",
      "\n",
      "將target文字化:\n",
      "['malignant' 'malignant' 'malignant' 'malignant' 'malignant' 'malignant'\n",
      " 'malignant' 'malignant' 'malignant' 'malignant' 'malignant' 'malignant'\n",
      " 'malignant' 'malignant' 'malignant' 'malignant' 'malignant' 'malignant'\n",
      " 'malignant' 'benign' 'benign' 'benign' 'malignant' 'malignant'\n",
      " 'malignant' 'malignant' 'malignant' 'malignant' 'malignant' 'malignant'\n",
      " 'malignant' 'malignant' 'malignant' 'malignant' 'malignant' 'malignant'\n",
      " 'malignant' 'benign' 'malignant' 'malignant' 'malignant' 'malignant'\n",
      " 'malignant' 'malignant' 'malignant' 'malignant' 'benign' 'malignant'\n",
      " 'benign' 'benign' 'benign' 'benign' 'benign' 'malignant' 'malignant'\n",
      " 'benign' 'malignant' 'malignant' 'benign' 'benign' 'benign' 'benign'\n",
      " 'malignant' 'benign' 'malignant' 'malignant' 'benign' 'benign' 'benign'\n",
      " 'benign' 'malignant' 'benign' 'malignant' 'malignant' 'benign'\n",
      " 'malignant' 'benign' 'malignant' 'malignant' 'benign' 'benign' 'benign'\n",
      " 'malignant' 'malignant' 'benign' 'malignant' 'malignant' 'malignant'\n",
      " 'benign' 'benign' 'benign' 'malignant' 'benign' 'benign' 'malignant'\n",
      " 'malignant' 'benign' 'benign' 'benign' 'malignant' 'malignant' 'benign'\n",
      " 'benign' 'benign' 'benign' 'malignant' 'benign' 'benign' 'malignant'\n",
      " 'benign' 'benign' 'benign' 'benign' 'benign' 'benign' 'benign' 'benign'\n",
      " 'malignant' 'malignant' 'malignant' 'benign' 'malignant' 'malignant'\n",
      " 'benign' 'benign' 'benign' 'malignant' 'malignant' 'benign' 'malignant'\n",
      " 'benign' 'malignant' 'malignant' 'benign' 'malignant' 'malignant'\n",
      " 'benign' 'benign' 'malignant' 'benign' 'benign' 'malignant' 'benign'\n",
      " 'benign' 'benign' 'benign' 'malignant' 'benign' 'benign' 'benign'\n",
      " 'benign' 'benign' 'benign' 'benign' 'benign' 'benign' 'malignant'\n",
      " 'benign' 'benign' 'benign' 'benign' 'malignant' 'malignant' 'benign'\n",
      " 'malignant' 'benign' 'benign' 'malignant' 'malignant' 'benign' 'benign'\n",
      " 'malignant' 'malignant' 'benign' 'benign' 'benign' 'benign' 'malignant'\n",
      " 'benign' 'benign' 'malignant' 'malignant' 'malignant' 'benign'\n",
      " 'malignant' 'benign' 'malignant' 'benign' 'benign' 'benign' 'malignant'\n",
      " 'benign' 'benign' 'malignant' 'malignant' 'benign' 'malignant'\n",
      " 'malignant' 'malignant' 'malignant' 'benign' 'malignant' 'malignant'\n",
      " 'malignant' 'benign' 'malignant' 'benign' 'malignant' 'benign' 'benign'\n",
      " 'malignant' 'benign' 'malignant' 'malignant' 'malignant' 'malignant'\n",
      " 'benign' 'benign' 'malignant' 'malignant' 'benign' 'benign' 'benign'\n",
      " 'malignant' 'benign' 'benign' 'benign' 'benign' 'benign' 'malignant'\n",
      " 'malignant' 'benign' 'benign' 'malignant' 'benign' 'benign' 'malignant'\n",
      " 'malignant' 'benign' 'malignant' 'benign' 'benign' 'benign' 'benign'\n",
      " 'malignant' 'benign' 'benign' 'benign' 'benign' 'benign' 'malignant'\n",
      " 'benign' 'malignant' 'malignant' 'malignant' 'malignant' 'malignant'\n",
      " 'malignant' 'malignant' 'malignant' 'malignant' 'malignant' 'malignant'\n",
      " 'malignant' 'malignant' 'malignant' 'benign' 'benign' 'benign' 'benign'\n",
      " 'benign' 'benign' 'malignant' 'benign' 'malignant' 'benign' 'benign'\n",
      " 'malignant' 'benign' 'benign' 'malignant' 'benign' 'malignant'\n",
      " 'malignant' 'benign' 'benign' 'benign' 'benign' 'benign' 'benign'\n",
      " 'benign' 'benign' 'benign' 'benign' 'benign' 'benign' 'benign'\n",
      " 'malignant' 'benign' 'benign' 'malignant' 'benign' 'malignant' 'benign'\n",
      " 'benign' 'benign' 'benign' 'benign' 'benign' 'benign' 'benign' 'benign'\n",
      " 'benign' 'benign' 'benign' 'benign' 'benign' 'malignant' 'benign'\n",
      " 'benign' 'benign' 'malignant' 'benign' 'malignant' 'benign' 'benign'\n",
      " 'benign' 'benign' 'malignant' 'malignant' 'malignant' 'benign' 'benign'\n",
      " 'benign' 'benign' 'malignant' 'benign' 'malignant' 'benign' 'malignant'\n",
      " 'benign' 'benign' 'benign' 'malignant' 'benign' 'benign' 'benign'\n",
      " 'benign' 'benign' 'benign' 'benign' 'malignant' 'malignant' 'malignant'\n",
      " 'benign' 'benign' 'benign' 'benign' 'benign' 'benign' 'benign' 'benign'\n",
      " 'benign' 'benign' 'benign' 'malignant' 'malignant' 'benign' 'malignant'\n",
      " 'malignant' 'malignant' 'benign' 'malignant' 'malignant' 'benign'\n",
      " 'benign' 'benign' 'benign' 'benign' 'malignant' 'benign' 'benign'\n",
      " 'benign' 'benign' 'benign' 'malignant' 'benign' 'benign' 'benign'\n",
      " 'malignant' 'benign' 'benign' 'malignant' 'malignant' 'benign' 'benign'\n",
      " 'benign' 'benign' 'benign' 'benign' 'malignant' 'benign' 'benign'\n",
      " 'benign' 'benign' 'benign' 'benign' 'benign' 'malignant' 'benign'\n",
      " 'benign' 'benign' 'benign' 'benign' 'malignant' 'benign' 'benign'\n",
      " 'malignant' 'benign' 'benign' 'benign' 'benign' 'benign' 'benign'\n",
      " 'benign' 'benign' 'benign' 'benign' 'benign' 'benign' 'malignant'\n",
      " 'benign' 'malignant' 'malignant' 'benign' 'malignant' 'benign' 'benign'\n",
      " 'benign' 'benign' 'benign' 'malignant' 'benign' 'benign' 'malignant'\n",
      " 'benign' 'malignant' 'benign' 'benign' 'malignant' 'benign' 'malignant'\n",
      " 'benign' 'benign' 'benign' 'benign' 'benign' 'benign' 'benign' 'benign'\n",
      " 'malignant' 'malignant' 'benign' 'benign' 'benign' 'benign' 'benign'\n",
      " 'benign' 'malignant' 'benign' 'benign' 'benign' 'benign' 'benign'\n",
      " 'benign' 'benign' 'benign' 'benign' 'benign' 'malignant' 'benign'\n",
      " 'benign' 'benign' 'benign' 'benign' 'benign' 'benign' 'malignant'\n",
      " 'benign' 'malignant' 'benign' 'benign' 'malignant' 'benign' 'benign'\n",
      " 'benign' 'benign' 'benign' 'malignant' 'malignant' 'benign' 'malignant'\n",
      " 'benign' 'malignant' 'benign' 'benign' 'benign' 'benign' 'benign'\n",
      " 'malignant' 'benign' 'benign' 'malignant' 'benign' 'malignant' 'benign'\n",
      " 'malignant' 'malignant' 'benign' 'benign' 'benign' 'malignant' 'benign'\n",
      " 'benign' 'benign' 'benign' 'benign' 'benign' 'benign' 'benign' 'benign'\n",
      " 'benign' 'benign' 'malignant' 'benign' 'malignant' 'malignant' 'benign'\n",
      " 'benign' 'benign' 'benign' 'benign' 'benign' 'benign' 'benign' 'benign'\n",
      " 'benign' 'benign' 'benign' 'benign' 'benign' 'benign' 'benign' 'benign'\n",
      " 'benign' 'benign' 'benign' 'benign' 'benign' 'benign' 'benign' 'benign'\n",
      " 'malignant' 'malignant' 'malignant' 'malignant' 'malignant' 'malignant'\n",
      " 'benign']\n"
     ]
    }
   ],
   "source": [
    "print(\"target:(以0,1表示)\")\n",
    "print(target)\n",
    "print('\\n')\n",
    "print(\"將target文字化:\")\n",
    "target_names=breast_cancer.target_names\n",
    "print(target_names[target])\n",
    "labels=target_names[target]"
   ]
  },
  {
   "cell_type": "code",
   "execution_count": 148,
   "metadata": {},
   "outputs": [
    {
     "name": "stdout",
     "output_type": "stream",
     "text": [
      "惡性腫瘤資料量數量:\n",
      "212\n",
      "212\n",
      "212\n"
     ]
    }
   ],
   "source": [
    "malignant_mean_radius=features[labels=='malignant',0]\n",
    "malignant_mean_texture=features[labels=='malignant',1]\n",
    "malignant_mean_perimeter=features[labels=='malignant',2]\n",
    "malignant_mean_area=features[labels=='malignant',3]\n",
    "malignant_mean_concavity=features[labels=='malignant',6]\n",
    "malignant_mean_concave_points=features[labels=='malignant',7]\n",
    "\n",
    "\n",
    "malignant_radius_texture=np.c_[malignant_mean_radius,malignant_mean_texture]\n",
    "malignant_perimeter_area=np.c_[malignant_mean_perimeter,malignant_mean_area]\n",
    "malignant_concavity_points=np.c_[malignant_mean_concavity,malignant_mean_concave_points]\n",
    "\n",
    "print(\"惡性腫瘤資料量數量:\")\n",
    "print(len(malignant_radius_texture))\n",
    "print(len(malignant_perimeter_area))\n",
    "print(len(malignant_concavity_points))"
   ]
  },
  {
   "cell_type": "code",
   "execution_count": 149,
   "metadata": {},
   "outputs": [
    {
     "name": "stdout",
     "output_type": "stream",
     "text": [
      "良性腫瘤資料量數量:\n",
      "357\n",
      "357\n",
      "357\n"
     ]
    }
   ],
   "source": [
    "benign_mean_radius=features[labels=='benign',0]\n",
    "benign_mean_texture=features[labels=='benign',1]\n",
    "benign_mean_perimeter=features[labels=='benign',2]\n",
    "benign_mean_area=features[labels=='benign',3]\n",
    "benign_mean_concavity=features[labels=='benign',6]\n",
    "benign_mean_concave_points=features[labels=='benign',7]\n",
    "\n",
    "benign_radius_texture=np.c_[benign_mean_radius,benign_mean_texture]\n",
    "benign_perimeter_area=np.c_[benign_mean_perimeter,benign_mean_area]\n",
    "benign_concavity_points=np.c_[benign_mean_concavity,benign_mean_concave_points]\n",
    "\n",
    "print(\"良性腫瘤資料量數量:\")\n",
    "print(len(benign_radius_texture))\n",
    "print(len(benign_perimeter_area))\n",
    "print(len(benign_concavity_points))"
   ]
  },
  {
   "cell_type": "code",
   "execution_count": 150,
   "metadata": {},
   "outputs": [
    {
     "name": "stdout",
     "output_type": "stream",
     "text": [
      "前212筆腫瘤半徑與腫瘤紋理散佈圖(惡性vs良性)\n"
     ]
    },
    {
     "data": {
      "text/plain": [
       "<matplotlib.collections.PathCollection at 0x24d78a5e310>"
      ]
     },
     "execution_count": 150,
     "metadata": {},
     "output_type": "execute_result"
    },
    {
     "data": {
      "image/png": "[encoded data removed]",
      "text/plain": [
       "<Figure size 432x288 with 1 Axes>"
      ]
     },
     "metadata": {
      "needs_background": "light"
     },
     "output_type": "display_data"
    }
   ],
   "source": [
    "print(\"前212筆腫瘤半徑與腫瘤紋理散佈圖(惡性vs良性)\")\n",
    "plt.scatter(malignant_radius_texture[:,0],malignant_radius_texture[:,1],color='red')\n",
    "plt.scatter(benign_radius_texture[:,0],benign_radius_texture[:,1],color='blue')"
   ]
  },
  {
   "cell_type": "code",
   "execution_count": 151,
   "metadata": {},
   "outputs": [
    {
     "name": "stdout",
     "output_type": "stream",
     "text": [
      "前212筆腫瘤周長與腫瘤面積散佈圖(惡性vs良性)\n"
     ]
    },
    {
     "data": {
      "text/plain": [
       "<matplotlib.collections.PathCollection at 0x24d78d183d0>"
      ]
     },
     "execution_count": 151,
     "metadata": {},
     "output_type": "execute_result"
    },
    {
     "data": {
      "image/png": "[encoded data removed]",
      "text/plain": [
       "<Figure size 432x288 with 1 Axes>"
      ]
     },
     "metadata": {
      "needs_background": "light"
     },
     "output_type": "display_data"
    }
   ],
   "source": [
    "print(\"前212筆腫瘤周長與腫瘤面積散佈圖(惡性vs良性)\")\n",
    "plt.scatter(malignant_perimeter_area[:,0],malignant_perimeter_area[:,1],color='red')\n",
    "plt.scatter(benign_perimeter_area[:,0],benign_perimeter_area[:,1],color='black')"
   ]
  },
  {
   "cell_type": "code",
   "execution_count": 152,
   "metadata": {},
   "outputs": [
    {
     "name": "stdout",
     "output_type": "stream",
     "text": [
      "前212筆腫瘤凹陷度與腫瘤凹陷點數散佈圖(惡性vs良性)\n"
     ]
    },
    {
     "data": {
      "text/plain": [
       "<matplotlib.collections.PathCollection at 0x24d78a269d0>"
      ]
     },
     "execution_count": 152,
     "metadata": {},
     "output_type": "execute_result"
    },
    {
     "data": {
      "image/png": "[encoded data removed]",
      "text/plain": [
       "<Figure size 432x288 with 1 Axes>"
      ]
     },
     "metadata": {
      "needs_background": "light"
     },
     "output_type": "display_data"
    }
   ],
   "source": [
    "print(\"前212筆腫瘤凹陷度與腫瘤凹陷點數散佈圖(惡性vs良性)\")\n",
    "plt.scatter(malignant_concavity_points[:,0],malignant_concavity_points[:,1],color='red')\n",
    "plt.scatter(benign_concavity_points[:,0],benign_concavity_points[:,1],color='green')"
   ]
  },
  {
   "cell_type": "markdown",
   "metadata": {},
   "source": [
    "## Step2. 區分訓練集與測試集\n",
    "...\n",
    "由上圖可知,惡性腫瘤凹陷度與腫瘤凹陷點數間的關聯性較高，因此欲對這些資料進行training\n",
    "..."
   ]
  },
  {
   "cell_type": "code",
   "execution_count": 153,
   "metadata": {},
   "outputs": [
    {
     "name": "stdout",
     "output_type": "stream",
     "text": [
      "惡性腫瘤凹陷度與腫瘤凹陷點數間的關聯\n"
     ]
    }
   ],
   "source": [
    "print(\"惡性腫瘤凹陷度與腫瘤凹陷點數間的關聯\")\n",
    "training_data1=np.r_[malignant_concavity_points,benign_concavity_points]\n",
    "training_labels1=np.r_[np.zeros(len(malignant_concavity_points)),np.ones(len(benign_concavity_points[:,1]))]\n",
    "\n",
    "X_train, X_test, y_train, y_test = train_test_split(training_data1,training_labels1,test_size=0.3,random_state=0)\n"
   ]
  },
  {
   "cell_type": "markdown",
   "metadata": {},
   "source": [
    "## Step3. 建模\n",
    "\\\\\\\n",
    "由圖表可知,腫瘤平均凹陷度(mean concavity)與腫瘤平均凹陷數目(mean concave points)呈現高度正相關。\n",
    "此處的懲罰係數高達10000，以較明確區分惡性(malignant)與良性(benign)腫瘤\n",
    "\\\\\\"
   ]
  },
  {
   "cell_type": "code",
   "execution_count": 154,
   "metadata": {},
   "outputs": [],
   "source": [
    "def SVM_plot(clf,title):\n",
    "    training_x_min=training_data1[:,0].min()\n",
    "    training_x_max=training_data1[:,0].max()\n",
    "    training_y_min=training_data1[:,1].min()\n",
    "    training_y_max=training_data1[:,1].max()\n",
    "    grid_interval=0.05\n",
    "    xx,yy=np.meshgrid(np.arange(training_x_min,training_x_max,grid_interval),np.arange(training_y_min,training_y_max,grid_interval))\n",
    "    \n",
    "    Z=clf.predict(np.c_[xx.ravel(),yy.ravel()])\n",
    "    Z=Z.reshape(xx.shape)\n",
    "    plt.contourf(xx,yy,Z,cmap=plt.cm.bone,alpha=0.2)\n",
    "    plt.autoscale()\n",
    "    plt.grid()\n",
    "    plt.scatter(malignant_concavity_points[:,0],malignant_concavity_points[:,1],color='red')\n",
    "    plt.scatter(benign_concavity_points[:,0],benign_concavity_points[:,1],color='blue')\n",
    "    \n",
    "    plt.title(title)\n",
    "    plt.show()"
   ]
  },
  {
   "cell_type": "code",
   "execution_count": 155,
   "metadata": {},
   "outputs": [
    {
     "name": "stdout",
     "output_type": "stream",
     "text": [
      "poly\n"
     ]
    },
    {
     "data": {
      "image/png": "[encoded data removed]",
      "text/plain": [
       "<Figure size 432x288 with 1 Axes>"
      ]
     },
     "metadata": {
      "needs_background": "light"
     },
     "output_type": "display_data"
    }
   ],
   "source": [
    "clf=svm.SVC(kernel='poly',gamma='auto',C=10000)\n",
    "clf.fit(X_train,y_train)\n",
    "print(\"poly\")\n",
    "SVM_plot(clf,'mean concavity vs mean concave points')\n"
   ]
  },
  {
   "cell_type": "code",
   "execution_count": 156,
   "metadata": {},
   "outputs": [
    {
     "name": "stdout",
     "output_type": "stream",
     "text": [
      "linear\n"
     ]
    },
    {
     "data": {
      "image/png": "[encoded data removed]",
      "text/plain": [
       "<Figure size 432x288 with 1 Axes>"
      ]
     },
     "metadata": {
      "needs_background": "light"
     },
     "output_type": "display_data"
    }
   ],
   "source": [
    "clf=svm.SVC(kernel='linear',gamma='auto',C=10000)\n",
    "clf.fit(X_train,y_train)\n",
    "print(\"linear\")\n",
    "SVM_plot(clf,'mean concavity vs mean concave points')\n"
   ]
  },
  {
   "cell_type": "markdown",
   "metadata": {},
   "source": [
    "## Step4. 預測\n",
    "\n",
    "```\n",
    "\n",
    "```\n"
   ]
  },
  {
   "cell_type": "code",
   "execution_count": 157,
   "metadata": {},
   "outputs": [
    {
     "data": {
      "text/plain": [
       "array([1., 1., 1., 1., 0., 1., 1., 1., 1., 1., 1., 0., 1., 0., 1., 0., 1.,\n",
       "       1., 1., 1., 0., 1., 1., 0., 1., 1., 0., 0., 1., 1., 0., 0., 1., 0.,\n",
       "       1., 0., 1., 0., 1., 1., 1., 1., 1., 1., 1., 1., 1., 1., 0., 0., 0.,\n",
       "       0., 1., 1., 1., 1., 1., 1., 0., 1., 0., 0., 1., 1., 1., 1., 1., 1.,\n",
       "       0., 0., 1., 0., 1., 1., 0., 1., 1., 1., 1., 1., 1., 0., 0., 1., 1.,\n",
       "       0., 1., 0., 1., 1., 0., 0., 1., 1., 1., 0., 1., 1., 0., 0., 0., 1.,\n",
       "       0., 1., 0., 1., 1., 1., 1., 1., 0., 1., 1., 1., 1., 1., 1., 0., 1.,\n",
       "       1., 0., 1., 0., 1., 1., 1., 1., 1., 1., 1., 0., 0., 1., 0., 1., 1.,\n",
       "       1., 1., 1., 0., 1., 0., 0., 1., 1., 1., 1., 1., 0., 0., 0., 0., 0.,\n",
       "       1., 0., 1., 1., 0., 1., 1., 1., 1., 1., 1., 0., 0., 0., 1., 1., 1.,\n",
       "       1.])"
      ]
     },
     "execution_count": 157,
     "metadata": {},
     "output_type": "execute_result"
    }
   ],
   "source": [
    "clf.predict(X_test)"
   ]
  },
  {
   "cell_type": "markdown",
   "metadata": {},
   "source": [
    "## Step5. 準確度分析\n",
    "模型預測的準確度高達90%以上"
   ]
  },
  {
   "cell_type": "code",
   "execution_count": 158,
   "metadata": {},
   "outputs": [
    {
     "name": "stdout",
     "output_type": "stream",
     "text": [
      "0.9095477386934674\n",
      "0.9064327485380117\n"
     ]
    }
   ],
   "source": [
    "print(clf.score(X_train,y_train))\n",
    "print(clf.score(X_test, y_test))"
   ]
  },
  {
   "cell_type": "code",
   "execution_count": 159,
   "metadata": {},
   "outputs": [
    {
     "name": "stdout",
     "output_type": "stream",
     "text": [
      "訓練組的準確度為:0.909548\n",
      "測試組的準確度為:0.906433\n"
     ]
    }
   ],
   "source": [
    "a=float(clf.score(X_train,y_train))\n",
    "print(\"訓練組的準確度為:%.6f\"%a)\n",
    "b=float(clf.score(X_test, y_test))\n",
    "print(\"測試組的準確度為:%.6f\"%b)"
   ]
  },
  {
   "cell_type": "code",
   "execution_count": null,
   "metadata": {},
   "outputs": [],
   "source": []
  }
 ],
 "metadata": {
  "kernelspec": {
   "display_name": "Python 3 (ipykernel)",
   "language": "python",
   "name": "python3"
  },
  "language_info": {
   "codemirror_mode": {
    "name": "ipython",
    "version": 3
   },
   "file_extension": ".py",
   "mimetype": "text/x-python",
   "name": "python",
   "nbconvert_exporter": "python",
   "pygments_lexer": "ipython3",
   "version": "3.9.12"
  }
 },
 "nbformat": 4,
 "nbformat_minor": 2
}
